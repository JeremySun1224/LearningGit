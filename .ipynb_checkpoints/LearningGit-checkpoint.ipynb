{
 "cells": [
  {
   "cell_type": "markdown",
   "metadata": {},
   "source": [
    "# Git"
   ]
  },
  {
   "cell_type": "markdown",
   "metadata": {},
   "source": [
    "## Overview"
   ]
  },
  {
   "cell_type": "markdown",
   "metadata": {},
   "source": [
    "<img src=\"overview.png\", width=400, height=400>"
   ]
  },
  {
   "cell_type": "markdown",
   "metadata": {},
   "source": [
    "- 在开始搞明白 ***Git*** 命令之前，我们有必要先了解一下版本控制的基本流程。这本文档将会向你一步步地详细阐述各种不同的工作流程。但是首先还是让我们先来一起了解一下版本控制的最基本的流程。版本控制中的最基本的模块就是**仓库(Repository)**，它分为**本地仓库(Local Repository)**和**远程仓库(Remote Repository)**。\n",
    "<br><br/>\n",
    "    - **本地仓库(Local Repository)**是放置在本地计算机中的，它以一个隐藏文件夹的形式存储在项目的根目录(root folder) 中。我们是唯一有权通过提交改动来操作这个仓库的用户。\n",
    "    <br><br/>\n",
    "    - **远程仓库(Remote Repository)**则相反，它通常是位于一个远程服务器上的，比如在互联网上或在你的局域网络上。没有任何工作文件与远程仓库相关联：它没有工作目录(working directory)，而是完全由**.git**仓库目录组成的。开发团队使用远程仓库进行数据共享和交换，远程仓库是协作开发时的一个共同基础，每个项目成员都可以发布自己的改动，同样也都可以接收到其他成员的改动。只有当我们需要和开发团队共享数据时，设置一个远程仓库才有意义。我们可以把它想象成一个**“文件管理服务器”**，利用这个服务器可以与开发团队的其他成员进行数据交换和代码工作等。"
   ]
  },
  {
   "cell_type": "markdown",
   "metadata": {},
   "source": [
    "- 接下来我们介绍一下这两个仓库以及一些基本命令。"
   ]
  },
  {
   "cell_type": "markdown",
   "metadata": {},
   "source": [
    "## Local Repository"
   ]
  },
  {
   "cell_type": "markdown",
   "metadata": {},
   "source": [
    "- 在Git版本控制系统上，大约90%的操作都是在本地仓库（Local Repository）中进行的，比如暂存、提交、查看状态或者历史记录等等。以下是Local Repository的一些基本命令。"
   ]
  },
  {
   "cell_type": "markdown",
   "metadata": {},
   "source": [
    "### git init"
   ]
  },
  {
   "cell_type": "markdown",
   "metadata": {},
   "source": [
    "<img src=\"init.png\", width=500, height=500>"
   ]
  },
  {
   "cell_type": "markdown",
   "metadata": {},
   "source": [
    "- 命令**git init**是让这个文件夹**A**进行托管。运行后会出现一个**.git**的隐藏文件夹。如果说整个文件夹**A**是图书馆的话，那么**.git**就相当于一个图书管理员，我们对**A**中的任何操作，它都能看得到。\n",
    "- **.git**有3个区：**工作区，暂存区，本地仓库**。我们目前在工作区。"
   ]
  },
  {
   "cell_type": "markdown",
   "metadata": {},
   "source": [
    "### git status"
   ]
  },
  {
   "cell_type": "markdown",
   "metadata": {},
   "source": [
    "<img src=\"status.png\", width=500, height=500>"
   ]
  },
  {
   "cell_type": "markdown",
   "metadata": {},
   "source": [
    "- 可以看到图中好多红色的东西。这表示管理员**.git**看到了好多文件，而且这些文件都没有被记录。命令**git status**是用来查看更改的，红色的就表示告诉我们仓库里有多少东西被更改了。"
   ]
  },
  {
   "cell_type": "markdown",
   "metadata": {},
   "source": [
    "### git add"
   ]
  },
  {
   "cell_type": "markdown",
   "metadata": {},
   "source": [
    "- 我们如果想管理起来我们的项目，我们需要把项目提交到暂存区，使用命令**git add**即可。"
   ]
  },
  {
   "cell_type": "markdown",
   "metadata": {},
   "source": [
    "<img src=\"add.png\", width=500, height=500>"
   ]
  },
  {
   "cell_type": "markdown",
   "metadata": {},
   "source": [
    "- 命令**git add -A**表示把所有的文件从工作区放到暂存区。\n",
    "- 要是只想提交部分文件，直接在**git add filename**。filename表示要提交的文件名，最好用英文，**记得加扩展名**。"
   ]
  },
  {
   "cell_type": "markdown",
   "metadata": {},
   "source": [
    "### git commit"
   ]
  },
  {
   "cell_type": "markdown",
   "metadata": {},
   "source": [
    "<img src=\"commit.png\", width=500, height=500>"
   ]
  },
  {
   "cell_type": "markdown",
   "metadata": {},
   "source": [
    "- 命令**git commit**表示将暂存区的所有文件提交到本地仓库，本地仓库的东西就是我们要提交给团队的东西。\n",
    "- \"first commit\"就相当于代码里的注释。\n",
    "- 我们再使用命令**git status**查看更改。"
   ]
  },
  {
   "cell_type": "markdown",
   "metadata": {},
   "source": [
    "<img src=\"status1.png\", width=500, height=500>"
   ]
  },
  {
   "cell_type": "markdown",
   "metadata": {},
   "source": [
    "- 可以看出状态已经更新，此前提交的文件将不再是红色字体，这些红色字体是随着文档的进行新添加的。"
   ]
  },
  {
   "cell_type": "markdown",
   "metadata": {},
   "source": [
    "<img src=\"status2.png\", width=500, height=600>"
   ]
  },
  {
   "cell_type": "markdown",
   "metadata": {},
   "source": [
    "- 再次使用命令**git add -A**将所有文件提交到暂存区，输入命令**git status**后可以看出文件名变为绿色字体，这表明文件已经被提交到暂存区了。"
   ]
  },
  {
   "cell_type": "markdown",
   "metadata": {},
   "source": [
    "### git log"
   ]
  },
  {
   "cell_type": "markdown",
   "metadata": {},
   "source": [
    "<img src=\"log.png\", width=500, height=600>"
   ]
  },
  {
   "cell_type": "markdown",
   "metadata": {},
   "source": [
    "- 命令**git log**会把我们所有的操作日志都列出来，包括提交的版本号、作者、日期以及提交说明。"
   ]
  },
  {
   "cell_type": "markdown",
   "metadata": {},
   "source": [
    "<img src=\"pretty.png\", width=500, height=600>"
   ]
  },
  {
   "cell_type": "markdown",
   "metadata": {},
   "source": [
    "- 我们还可以使用命令**git log --pretty=oneline**来把所有的操作日志的信息简单的列出来，只包括了版本号和提交说明，这也就是oneline的意思。"
   ]
  },
  {
   "cell_type": "markdown",
   "metadata": {},
   "source": [
    "### git reset"
   ]
  },
  {
   "cell_type": "markdown",
   "metadata": {},
   "source": [
    "<img src=\"reset.png\", width=500, height=500>"
   ]
  },
  {
   "cell_type": "markdown",
   "metadata": {},
   "source": [
    "- 可以看出项目已经回退到second commit。\n",
    "- 使用命令**git reset**可以回退到某个你想要的时间节点接着进行开发。比如说你周三的时候发现你周二开发的代码就有问题，那么你可以使用命令**git reset --hard number**回退到任何你想要到的代码版本，其中number表示版本号，即commit后面的一窜字符，只需复制部分即可，***git bash*** 会自动识别补全。"
   ]
  },
  {
   "cell_type": "markdown",
   "metadata": {},
   "source": [
    "## Remote Repository"
   ]
  },
  {
   "cell_type": "markdown",
   "metadata": {},
   "source": [
    "### Create Remote Repository"
   ]
  },
  {
   "cell_type": "markdown",
   "metadata": {},
   "source": [
    "<img src=\"create.png\", width=800, height=800>"
   ]
  },
  {
   "cell_type": "markdown",
   "metadata": {},
   "source": [
    "- 之后我们会得到两个链接：**HTTPS & SSH**。这也就是我们远程仓库的路径，我们可以通过这个路径把本地的仓库传到 ***GitHub*** 上进行托管。"
   ]
  },
  {
   "cell_type": "markdown",
   "metadata": {},
   "source": [
    "<img src=\"link.png\", width=800, height=800>"
   ]
  },
  {
   "cell_type": "markdown",
   "metadata": {},
   "source": [
    "- 在托管之前，我们需要先进行如下设置。\n",
    "    - **【Settings】-->【SSH and GPG keys】-->【generating SSH keys】-->【Generating a new SSH key and adding it to the ssh-agent】**\n",
    "    <br><br/>\n",
    "    - 根据红框内的代码在**Git Bash**中进行操作。"
   ]
  },
  {
   "cell_type": "markdown",
   "metadata": {},
   "source": [
    "<img src=\"key.png\", width=800, height=800>"
   ]
  },
  {
   "cell_type": "markdown",
   "metadata": {},
   "source": [
    "- 输入完后直接按回车键即可得到如下界面："
   ]
  },
  {
   "cell_type": "markdown",
   "metadata": {},
   "source": [
    "<img src=\"key1.png\", width=600, height=400>"
   ]
  },
  {
   "cell_type": "markdown",
   "metadata": {},
   "source": [
    "- 这表明我们的电脑里已经有了这个**key**，它是一个pub格式的文件，现在输入以下代码获得这个**key**。"
   ]
  },
  {
   "cell_type": "markdown",
   "metadata": {},
   "source": [
    "- 代码：**clip < ~/.ssh/id_rsa.pub **"
   ]
  },
  {
   "cell_type": "markdown",
   "metadata": {},
   "source": [
    "<img src=\"rsa.png\", width=500, height=500>"
   ]
  },
  {
   "cell_type": "markdown",
   "metadata": {},
   "source": [
    "- 执行完这行代码后直接新建文本文档【Ctrl+V】粘贴即可得到**key**。"
   ]
  },
  {
   "cell_type": "markdown",
   "metadata": {},
   "source": [
    "<img src=\"get.png\", width=800, height=800>"
   ]
  },
  {
   "cell_type": "markdown",
   "metadata": {},
   "source": [
    "- 接着打开**【New SSH Key】**，输入上述**Key**。"
   ]
  },
  {
   "cell_type": "markdown",
   "metadata": {},
   "source": [
    "<img src=\"new.png\", width=800, height=800>"
   ]
  },
  {
   "cell_type": "markdown",
   "metadata": {},
   "source": [
    "- 输入上述**Key**后，我们将得到以下界面："
   ]
  },
  {
   "cell_type": "markdown",
   "metadata": {},
   "source": [
    "<img src=\"keys.png\", width=800, height=800>"
   ]
  },
  {
   "cell_type": "markdown",
   "metadata": {},
   "source": [
    "- 之后回到我们的仓库**LearningGit**，复制**SSH**链接，并打开*** Git Bash***，输入命令**git clone SSH**。"
   ]
  },
  {
   "cell_type": "markdown",
   "metadata": {},
   "source": [
    "<img src=\"clone.png\", width=600, height=600>"
   ]
  },
  {
   "cell_type": "markdown",
   "metadata": {},
   "source": [
    "### git push"
   ]
  },
  {
   "cell_type": "markdown",
   "metadata": {},
   "source": [
    "- 输入命令**git push**把本地仓库提交到 ***GitHub*** 进行托管。"
   ]
  },
  {
   "cell_type": "code",
   "execution_count": null,
   "metadata": {
    "collapsed": true
   },
   "outputs": [],
   "source": []
  }
 ],
 "metadata": {
  "anaconda-cloud": {},
  "kernelspec": {
   "display_name": "Python [default]",
   "language": "python",
   "name": "python3"
  },
  "language_info": {
   "codemirror_mode": {
    "name": "ipython",
    "version": 3
   },
   "file_extension": ".py",
   "mimetype": "text/x-python",
   "name": "python",
   "nbconvert_exporter": "python",
   "pygments_lexer": "ipython3",
   "version": "3.5.6"
  },
  "toc": {
   "base_numbering": 1,
   "nav_menu": {},
   "number_sections": true,
   "sideBar": true,
   "skip_h1_title": false,
   "title_cell": "Table of Contents",
   "title_sidebar": "Contents",
   "toc_cell": false,
   "toc_position": {
    "height": "calc(100% - 180px)",
    "left": "10px",
    "top": "150px",
    "width": "256px"
   },
   "toc_section_display": true,
   "toc_window_display": true
  }
 },
 "nbformat": 4,
 "nbformat_minor": 1
}
