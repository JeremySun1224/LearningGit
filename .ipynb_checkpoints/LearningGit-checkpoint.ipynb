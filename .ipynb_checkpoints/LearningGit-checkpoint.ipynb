{
 "cells": [
  {
   "cell_type": "markdown",
   "metadata": {},
   "source": [
    "# git init"
   ]
  },
  {
   "cell_type": "markdown",
   "metadata": {},
   "source": [
    "<img src=\"init.png\", width=500, height=500>"
   ]
  },
  {
   "cell_type": "markdown",
   "metadata": {},
   "source": [
    "- 命令**git init**是让这个文件夹**A**进行托管。运行后会出现一个**.git**的隐藏文件夹。如果说整个文件夹**A**是图书馆的话，那么**.git**就相当于一个图书管理员，我们对**A**中的任何操作，它都能看得到。\n",
    "- **.git**有3个区：**工作区，暂存区，本地仓库**。我们目前在工作区。"
   ]
  },
  {
   "cell_type": "markdown",
   "metadata": {},
   "source": [
    "# git status"
   ]
  },
  {
   "cell_type": "markdown",
   "metadata": {},
   "source": [
    "<img src=\"status.png\", width=500, height=500>"
   ]
  },
  {
   "cell_type": "markdown",
   "metadata": {},
   "source": [
    "- 可以看到图中好多红色的东西。这表示管理员**.git**看到了好多文件，而且这些文件都没有被记录。命令**git status**是用来查看更改的，红色的就表示告诉我们仓库里有多少东西被更改了。"
   ]
  },
  {
   "cell_type": "markdown",
   "metadata": {},
   "source": [
    "# git add"
   ]
  },
  {
   "cell_type": "markdown",
   "metadata": {},
   "source": [
    "- 我们如果想管理起来我们的项目，我们需要把项目提交到暂存区，使用命令**git add**即可。"
   ]
  },
  {
   "cell_type": "markdown",
   "metadata": {},
   "source": [
    "<img src=\"add.png\", width=500, height=500>"
   ]
  },
  {
   "cell_type": "markdown",
   "metadata": {},
   "source": [
    "- 命令**git add -A**表示把所有的文件从工作区放到暂存区。\n",
    "- 要是只想提交部分文件，直接在**git add filename**。filename表示要提交的文件名，最好用英文，**记得加扩展名**。"
   ]
  },
  {
   "cell_type": "markdown",
   "metadata": {},
   "source": [
    "# git commit"
   ]
  },
  {
   "cell_type": "markdown",
   "metadata": {},
   "source": [
    "<img src=\"commit.png\", width=500, height=500>"
   ]
  },
  {
   "cell_type": "markdown",
   "metadata": {},
   "source": [
    "- 命令**git commit**表示将暂存区的所有文件提交到本地仓库，本地仓库的东西就是我们要提交给团队的东西。\n",
    "- \"first commit\"就相当于代码里的注释。\n",
    "- 我们再使用命令**git status**查看更改。"
   ]
  },
  {
   "cell_type": "markdown",
   "metadata": {},
   "source": [
    "<img src=\"status1.png\", width=500, height=500>"
   ]
  },
  {
   "cell_type": "markdown",
   "metadata": {},
   "source": [
    "- 可以看出状态已经更新，此前提交的文件将不再是红色字体，这些红色字体是随着文档的进行新添加的。"
   ]
  },
  {
   "cell_type": "markdown",
   "metadata": {},
   "source": [
    "<img src=\"status2.png\", width=500, height=600>"
   ]
  },
  {
   "cell_type": "markdown",
   "metadata": {},
   "source": [
    "- 再次使用命令**git add -A**将所有文件提交到暂存区，输入命令**git status**后可以看出文件名变为绿色字体，这表明文件已经被提交到暂存区了。"
   ]
  },
  {
   "cell_type": "markdown",
   "metadata": {},
   "source": [
    "# git log"
   ]
  },
  {
   "cell_type": "markdown",
   "metadata": {},
   "source": [
    "<img src=\"log.png\", width=500, height=600>"
   ]
  },
  {
   "cell_type": "markdown",
   "metadata": {},
   "source": [
    "- 命令**git log**会把我们所有的操作日志都列出来，包括提交的版本号、作者、日期以及提交说明。"
   ]
  },
  {
   "cell_type": "markdown",
   "metadata": {},
   "source": [
    "# git reset"
   ]
  },
  {
   "cell_type": "markdown",
   "metadata": {},
   "source": [
    "- 使用命令**git reset**可以回退到某个你想要的时间节点接着进行开发。比如说你周三的时候发现你周二开发的代码就有问题，那么你可以使用命令**git reset --hard number**回退到任何你想要到的代码版本，其中number表示版本号，即commit后面的一窜字符。"
   ]
  },
  {
   "cell_type": "markdown",
   "metadata": {},
   "source": []
  },
  {
   "cell_type": "markdown",
   "metadata": {},
   "source": []
  },
  {
   "cell_type": "markdown",
   "metadata": {},
   "source": []
  },
  {
   "cell_type": "markdown",
   "metadata": {},
   "source": []
  },
  {
   "cell_type": "markdown",
   "metadata": {},
   "source": []
  },
  {
   "cell_type": "markdown",
   "metadata": {},
   "source": []
  },
  {
   "cell_type": "markdown",
   "metadata": {},
   "source": []
  },
  {
   "cell_type": "markdown",
   "metadata": {},
   "source": []
  },
  {
   "cell_type": "code",
   "execution_count": null,
   "metadata": {
    "collapsed": true
   },
   "outputs": [],
   "source": []
  }
 ],
 "metadata": {
  "anaconda-cloud": {},
  "kernelspec": {
   "display_name": "Python [default]",
   "language": "python",
   "name": "python3"
  },
  "language_info": {
   "codemirror_mode": {
    "name": "ipython",
    "version": 3
   },
   "file_extension": ".py",
   "mimetype": "text/x-python",
   "name": "python",
   "nbconvert_exporter": "python",
   "pygments_lexer": "ipython3",
   "version": "3.5.6"
  },
  "toc": {
   "base_numbering": 1,
   "nav_menu": {},
   "number_sections": true,
   "sideBar": true,
   "skip_h1_title": false,
   "title_cell": "Table of Contents",
   "title_sidebar": "Contents",
   "toc_cell": false,
   "toc_position": {},
   "toc_section_display": true,
   "toc_window_display": true
  }
 },
 "nbformat": 4,
 "nbformat_minor": 1
}
